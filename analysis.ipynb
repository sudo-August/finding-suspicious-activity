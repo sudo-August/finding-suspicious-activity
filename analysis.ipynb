{
 "metadata": {
  "language_info": {
   "codemirror_mode": {
    "name": "ipython",
    "version": 3
   },
   "file_extension": ".py",
   "mimetype": "text/x-python",
   "name": "python",
   "nbconvert_exporter": "python",
   "pygments_lexer": "ipython3",
   "version": "3.7.9-final"
  },
  "orig_nbformat": 2,
  "kernelspec": {
   "name": "Python 3.7.9 64-bit ('pyviz': conda)",
   "display_name": "Python 3.7.9 64-bit ('pyviz': conda)",
   "metadata": {
    "interpreter": {
     "hash": "7b2c716fdc60b83528d2d84273d04b02153ca9459445c54260c4e3551fe544ea"
    }
   }
  }
 },
 "nbformat": 4,
 "nbformat_minor": 2,
 "cells": [
  {
   "cell_type": "code",
   "execution_count": 46,
   "metadata": {},
   "outputs": [],
   "source": [
    "import pandas as pd\n",
    "import plotly.express as px\n",
    "from pathlib import Path\n",
    "from sqlalchemy import create_engine\n",
    "from sqlalchemy.sql import text\n",
    "import psycopg2"
   ]
  },
  {
   "source": [
    "# Import data to database"
   ],
   "cell_type": "markdown",
   "metadata": {}
  },
  {
   "cell_type": "code",
   "execution_count": 47,
   "metadata": {},
   "outputs": [],
   "source": [
    "card_holder_csv = Path(\".\\Data\\card_holder.csv\")\n",
    "credit_card_csv = Path(\".\\Data\\credit_card.csv\")\n",
    "merchant_category_csv = Path(\".\\Data\\merchant_category.csv\")\n",
    "merchant_csv = Path(\".\\Data\\merchant.csv\")\n",
    "transaction_csv = Path(\".\\Data\\transaction.csv\")\n",
    "seed_data = Path(\".\\Data\\seed.sql\")\n",
    "schema = Path(\".\\schema.sql\")"
   ]
  },
  {
   "cell_type": "code",
   "execution_count": 48,
   "metadata": {},
   "outputs": [],
   "source": [
    "eng = create_engine(\"postgres://postgres:W@terH0u53@localhost/postgres\")"
   ]
  },
  {
   "cell_type": "code",
   "execution_count": 53,
   "metadata": {},
   "outputs": [],
   "source": [
    "with eng.connect() as con:\n",
    "    schema_sql = text(schema.read_text())\n",
    "    seed_sql = text(seed_data.read_text())\n",
    "    con.execute(schema_sql)\n",
    "    con.execute(seed_sql)"
   ]
  },
  {
   "source": [
    "# Analysis"
   ],
   "cell_type": "markdown",
   "metadata": {}
  },
  {
   "source": [
    "## How can you isolate (or group) the transactions of each cardholder?"
   ],
   "cell_type": "markdown",
   "metadata": {}
  },
  {
   "cell_type": "code",
   "execution_count": 55,
   "metadata": {},
   "outputs": [
    {
     "output_type": "execute_result",
     "data": {
      "text/plain": [
       "     id                date  amount              card  merchant_id\n",
       "0   222 2018-01-01 21:35:10    6.22  3561954487988605           69\n",
       "1  2045 2018-01-01 21:43:12    3.83  5135837688671496           85\n",
       "2   395 2018-01-01 22:41:21    9.61   213193946980303           82\n",
       "3  3309 2018-01-01 23:13:30   19.03  4263694062533017            5\n",
       "4   567 2018-01-01 23:15:10    2.95     4498002758300           64\n",
       "5  1683 2018-01-02 01:13:21   11.24  4263694062533017          127\n",
       "6  2083 2018-01-02 02:06:21    1.46     4319653513507           93\n",
       "7  3488 2018-01-02 04:36:45    3.36  4506405265172173          136\n",
       "8  2635 2018-01-02 05:45:43   16.69  5297187379298983          120\n",
       "9   432 2018-01-02 10:13:09    8.55  5175947111814778           70"
      ],
      "text/html": "<div>\n<style scoped>\n    .dataframe tbody tr th:only-of-type {\n        vertical-align: middle;\n    }\n\n    .dataframe tbody tr th {\n        vertical-align: top;\n    }\n\n    .dataframe thead th {\n        text-align: right;\n    }\n</style>\n<table border=\"1\" class=\"dataframe\">\n  <thead>\n    <tr style=\"text-align: right;\">\n      <th></th>\n      <th>id</th>\n      <th>date</th>\n      <th>amount</th>\n      <th>card</th>\n      <th>merchant_id</th>\n    </tr>\n  </thead>\n  <tbody>\n    <tr>\n      <th>0</th>\n      <td>222</td>\n      <td>2018-01-01 21:35:10</td>\n      <td>6.22</td>\n      <td>3561954487988605</td>\n      <td>69</td>\n    </tr>\n    <tr>\n      <th>1</th>\n      <td>2045</td>\n      <td>2018-01-01 21:43:12</td>\n      <td>3.83</td>\n      <td>5135837688671496</td>\n      <td>85</td>\n    </tr>\n    <tr>\n      <th>2</th>\n      <td>395</td>\n      <td>2018-01-01 22:41:21</td>\n      <td>9.61</td>\n      <td>213193946980303</td>\n      <td>82</td>\n    </tr>\n    <tr>\n      <th>3</th>\n      <td>3309</td>\n      <td>2018-01-01 23:13:30</td>\n      <td>19.03</td>\n      <td>4263694062533017</td>\n      <td>5</td>\n    </tr>\n    <tr>\n      <th>4</th>\n      <td>567</td>\n      <td>2018-01-01 23:15:10</td>\n      <td>2.95</td>\n      <td>4498002758300</td>\n      <td>64</td>\n    </tr>\n    <tr>\n      <th>5</th>\n      <td>1683</td>\n      <td>2018-01-02 01:13:21</td>\n      <td>11.24</td>\n      <td>4263694062533017</td>\n      <td>127</td>\n    </tr>\n    <tr>\n      <th>6</th>\n      <td>2083</td>\n      <td>2018-01-02 02:06:21</td>\n      <td>1.46</td>\n      <td>4319653513507</td>\n      <td>93</td>\n    </tr>\n    <tr>\n      <th>7</th>\n      <td>3488</td>\n      <td>2018-01-02 04:36:45</td>\n      <td>3.36</td>\n      <td>4506405265172173</td>\n      <td>136</td>\n    </tr>\n    <tr>\n      <th>8</th>\n      <td>2635</td>\n      <td>2018-01-02 05:45:43</td>\n      <td>16.69</td>\n      <td>5297187379298983</td>\n      <td>120</td>\n    </tr>\n    <tr>\n      <th>9</th>\n      <td>432</td>\n      <td>2018-01-02 10:13:09</td>\n      <td>8.55</td>\n      <td>5175947111814778</td>\n      <td>70</td>\n    </tr>\n  </tbody>\n</table>\n</div>"
     },
     "metadata": {},
     "execution_count": 55
    }
   ],
   "source": [
    "trans = pd.DataFrame\n",
    "with eng.connect() as con:\n",
    "    trans = pd.read_sql(\"transaction\", con)\n",
    "trans.head(10)"
   ]
  },
  {
   "cell_type": "code",
   "execution_count": 64,
   "metadata": {},
   "outputs": [
    {
     "output_type": "execute_result",
     "data": {
      "text/plain": [
       "                     id  date  amount  merchant_id\n",
       "card                                              \n",
       "501809222273         67    67      67           67\n",
       "501879657465         66    66      66           66\n",
       "503842928916         79    79      79           79\n",
       "584226564303         96    96      96           96\n",
       "675911140852         43    43      43           43\n",
       "4276466390111        55    55      55           55\n",
       "4319653513507        60    60      60           60\n",
       "4498002758300        65    65      65           65\n",
       "4681896441519        57    57      57           57\n",
       "4741042733274        60    60      60           60\n",
       "30063281385429       58    58      58           58\n",
       "30078299053512       58    58      58           58\n",
       "30142966699187       57    57      57           57\n",
       "30181963913340       61    61      61           61\n",
       "180098539019105      73    73      73           73\n",
       "213193946980303      70    70      70           70\n",
       "344119623920892      68    68      68           68\n",
       "372414832802279      64    64      64           64\n",
       "376027549341849      81    81      81           81\n",
       "3516952396080247     61    61      61           61\n",
       "3517111172421930     68    68      68           68\n",
       "3535651398328201     74    74      74           74\n",
       "3561072557118696     64    64      64           64\n",
       "3561954487988605     64    64      64           64\n",
       "3581345943543942     53    53      53           53\n",
       "3582198969197591     52    52      52           52\n",
       "4027907156459098     72    72      72           72\n",
       "4150721559116778     57    57      57           57\n",
       "4188164051171486     62    62      62           62\n",
       "4263694062533017     52    52      52           52\n",
       "4268491956169254     85    85      85           85\n",
       "4506405265172173     63    63      63           63\n",
       "4539990688484983     78    78      78           78\n",
       "4711773125020499     71    71      71           71\n",
       "4834483169177062     61    61      61           61\n",
       "5135837688671496     71    71      71           71\n",
       "5175947111814778     65    65      65           65\n",
       "5297187379298983     66    66      66           66\n",
       "5361779664174555     60    60      60           60\n",
       "5500708021555307     71    71      71           71\n",
       "5570600642865857     71    71      71           71\n",
       "6011987562414062     61    61      61           61\n",
       "6500236164848279     63    63      63           63\n",
       "4159836738768855913  75    75      75           75\n",
       "4165305432349489280  66    66      66           66\n",
       "4279104135293225293  67    67      67           67\n",
       "4586962917519654607  73    73      73           73\n",
       "4644008655884311378  59    59      59           59\n",
       "4723783028106084756  75    75      75           75\n",
       "4743204091443101526  81    81      81           81\n",
       "4761049645711555811  65    65      65           65\n",
       "4866761290278198714  56    56      56           56\n",
       "4962915017023706562  80    80      80           80"
      ],
      "text/html": "<div>\n<style scoped>\n    .dataframe tbody tr th:only-of-type {\n        vertical-align: middle;\n    }\n\n    .dataframe tbody tr th {\n        vertical-align: top;\n    }\n\n    .dataframe thead th {\n        text-align: right;\n    }\n</style>\n<table border=\"1\" class=\"dataframe\">\n  <thead>\n    <tr style=\"text-align: right;\">\n      <th></th>\n      <th>id</th>\n      <th>date</th>\n      <th>amount</th>\n      <th>merchant_id</th>\n    </tr>\n    <tr>\n      <th>card</th>\n      <th></th>\n      <th></th>\n      <th></th>\n      <th></th>\n    </tr>\n  </thead>\n  <tbody>\n    <tr>\n      <th>501809222273</th>\n      <td>67</td>\n      <td>67</td>\n      <td>67</td>\n      <td>67</td>\n    </tr>\n    <tr>\n      <th>501879657465</th>\n      <td>66</td>\n      <td>66</td>\n      <td>66</td>\n      <td>66</td>\n    </tr>\n    <tr>\n      <th>503842928916</th>\n      <td>79</td>\n      <td>79</td>\n      <td>79</td>\n      <td>79</td>\n    </tr>\n    <tr>\n      <th>584226564303</th>\n      <td>96</td>\n      <td>96</td>\n      <td>96</td>\n      <td>96</td>\n    </tr>\n    <tr>\n      <th>675911140852</th>\n      <td>43</td>\n      <td>43</td>\n      <td>43</td>\n      <td>43</td>\n    </tr>\n    <tr>\n      <th>4276466390111</th>\n      <td>55</td>\n      <td>55</td>\n      <td>55</td>\n      <td>55</td>\n    </tr>\n    <tr>\n      <th>4319653513507</th>\n      <td>60</td>\n      <td>60</td>\n      <td>60</td>\n      <td>60</td>\n    </tr>\n    <tr>\n      <th>4498002758300</th>\n      <td>65</td>\n      <td>65</td>\n      <td>65</td>\n      <td>65</td>\n    </tr>\n    <tr>\n      <th>4681896441519</th>\n      <td>57</td>\n      <td>57</td>\n      <td>57</td>\n      <td>57</td>\n    </tr>\n    <tr>\n      <th>4741042733274</th>\n      <td>60</td>\n      <td>60</td>\n      <td>60</td>\n      <td>60</td>\n    </tr>\n    <tr>\n      <th>30063281385429</th>\n      <td>58</td>\n      <td>58</td>\n      <td>58</td>\n      <td>58</td>\n    </tr>\n    <tr>\n      <th>30078299053512</th>\n      <td>58</td>\n      <td>58</td>\n      <td>58</td>\n      <td>58</td>\n    </tr>\n    <tr>\n      <th>30142966699187</th>\n      <td>57</td>\n      <td>57</td>\n      <td>57</td>\n      <td>57</td>\n    </tr>\n    <tr>\n      <th>30181963913340</th>\n      <td>61</td>\n      <td>61</td>\n      <td>61</td>\n      <td>61</td>\n    </tr>\n    <tr>\n      <th>180098539019105</th>\n      <td>73</td>\n      <td>73</td>\n      <td>73</td>\n      <td>73</td>\n    </tr>\n    <tr>\n      <th>213193946980303</th>\n      <td>70</td>\n      <td>70</td>\n      <td>70</td>\n      <td>70</td>\n    </tr>\n    <tr>\n      <th>344119623920892</th>\n      <td>68</td>\n      <td>68</td>\n      <td>68</td>\n      <td>68</td>\n    </tr>\n    <tr>\n      <th>372414832802279</th>\n      <td>64</td>\n      <td>64</td>\n      <td>64</td>\n      <td>64</td>\n    </tr>\n    <tr>\n      <th>376027549341849</th>\n      <td>81</td>\n      <td>81</td>\n      <td>81</td>\n      <td>81</td>\n    </tr>\n    <tr>\n      <th>3516952396080247</th>\n      <td>61</td>\n      <td>61</td>\n      <td>61</td>\n      <td>61</td>\n    </tr>\n    <tr>\n      <th>3517111172421930</th>\n      <td>68</td>\n      <td>68</td>\n      <td>68</td>\n      <td>68</td>\n    </tr>\n    <tr>\n      <th>3535651398328201</th>\n      <td>74</td>\n      <td>74</td>\n      <td>74</td>\n      <td>74</td>\n    </tr>\n    <tr>\n      <th>3561072557118696</th>\n      <td>64</td>\n      <td>64</td>\n      <td>64</td>\n      <td>64</td>\n    </tr>\n    <tr>\n      <th>3561954487988605</th>\n      <td>64</td>\n      <td>64</td>\n      <td>64</td>\n      <td>64</td>\n    </tr>\n    <tr>\n      <th>3581345943543942</th>\n      <td>53</td>\n      <td>53</td>\n      <td>53</td>\n      <td>53</td>\n    </tr>\n    <tr>\n      <th>3582198969197591</th>\n      <td>52</td>\n      <td>52</td>\n      <td>52</td>\n      <td>52</td>\n    </tr>\n    <tr>\n      <th>4027907156459098</th>\n      <td>72</td>\n      <td>72</td>\n      <td>72</td>\n      <td>72</td>\n    </tr>\n    <tr>\n      <th>4150721559116778</th>\n      <td>57</td>\n      <td>57</td>\n      <td>57</td>\n      <td>57</td>\n    </tr>\n    <tr>\n      <th>4188164051171486</th>\n      <td>62</td>\n      <td>62</td>\n      <td>62</td>\n      <td>62</td>\n    </tr>\n    <tr>\n      <th>4263694062533017</th>\n      <td>52</td>\n      <td>52</td>\n      <td>52</td>\n      <td>52</td>\n    </tr>\n    <tr>\n      <th>4268491956169254</th>\n      <td>85</td>\n      <td>85</td>\n      <td>85</td>\n      <td>85</td>\n    </tr>\n    <tr>\n      <th>4506405265172173</th>\n      <td>63</td>\n      <td>63</td>\n      <td>63</td>\n      <td>63</td>\n    </tr>\n    <tr>\n      <th>4539990688484983</th>\n      <td>78</td>\n      <td>78</td>\n      <td>78</td>\n      <td>78</td>\n    </tr>\n    <tr>\n      <th>4711773125020499</th>\n      <td>71</td>\n      <td>71</td>\n      <td>71</td>\n      <td>71</td>\n    </tr>\n    <tr>\n      <th>4834483169177062</th>\n      <td>61</td>\n      <td>61</td>\n      <td>61</td>\n      <td>61</td>\n    </tr>\n    <tr>\n      <th>5135837688671496</th>\n      <td>71</td>\n      <td>71</td>\n      <td>71</td>\n      <td>71</td>\n    </tr>\n    <tr>\n      <th>5175947111814778</th>\n      <td>65</td>\n      <td>65</td>\n      <td>65</td>\n      <td>65</td>\n    </tr>\n    <tr>\n      <th>5297187379298983</th>\n      <td>66</td>\n      <td>66</td>\n      <td>66</td>\n      <td>66</td>\n    </tr>\n    <tr>\n      <th>5361779664174555</th>\n      <td>60</td>\n      <td>60</td>\n      <td>60</td>\n      <td>60</td>\n    </tr>\n    <tr>\n      <th>5500708021555307</th>\n      <td>71</td>\n      <td>71</td>\n      <td>71</td>\n      <td>71</td>\n    </tr>\n    <tr>\n      <th>5570600642865857</th>\n      <td>71</td>\n      <td>71</td>\n      <td>71</td>\n      <td>71</td>\n    </tr>\n    <tr>\n      <th>6011987562414062</th>\n      <td>61</td>\n      <td>61</td>\n      <td>61</td>\n      <td>61</td>\n    </tr>\n    <tr>\n      <th>6500236164848279</th>\n      <td>63</td>\n      <td>63</td>\n      <td>63</td>\n      <td>63</td>\n    </tr>\n    <tr>\n      <th>4159836738768855913</th>\n      <td>75</td>\n      <td>75</td>\n      <td>75</td>\n      <td>75</td>\n    </tr>\n    <tr>\n      <th>4165305432349489280</th>\n      <td>66</td>\n      <td>66</td>\n      <td>66</td>\n      <td>66</td>\n    </tr>\n    <tr>\n      <th>4279104135293225293</th>\n      <td>67</td>\n      <td>67</td>\n      <td>67</td>\n      <td>67</td>\n    </tr>\n    <tr>\n      <th>4586962917519654607</th>\n      <td>73</td>\n      <td>73</td>\n      <td>73</td>\n      <td>73</td>\n    </tr>\n    <tr>\n      <th>4644008655884311378</th>\n      <td>59</td>\n      <td>59</td>\n      <td>59</td>\n      <td>59</td>\n    </tr>\n    <tr>\n      <th>4723783028106084756</th>\n      <td>75</td>\n      <td>75</td>\n      <td>75</td>\n      <td>75</td>\n    </tr>\n    <tr>\n      <th>4743204091443101526</th>\n      <td>81</td>\n      <td>81</td>\n      <td>81</td>\n      <td>81</td>\n    </tr>\n    <tr>\n      <th>4761049645711555811</th>\n      <td>65</td>\n      <td>65</td>\n      <td>65</td>\n      <td>65</td>\n    </tr>\n    <tr>\n      <th>4866761290278198714</th>\n      <td>56</td>\n      <td>56</td>\n      <td>56</td>\n      <td>56</td>\n    </tr>\n    <tr>\n      <th>4962915017023706562</th>\n      <td>80</td>\n      <td>80</td>\n      <td>80</td>\n      <td>80</td>\n    </tr>\n  </tbody>\n</table>\n</div>"
     },
     "metadata": {},
     "execution_count": 64
    }
   ],
   "source": [
    "# grouping the transactions by card number\n",
    "card_groups = trans.groupby(\"card\", axis=0)\n",
    "card_groups.count()"
   ]
  },
  {
   "source": [
    "## Consider the time period between 7:00 am to 9:00 am"
   ],
   "cell_type": "markdown",
   "metadata": {}
  },
  {
   "source": [
    "### What are the 100 highest transactions during this time period?"
   ],
   "cell_type": "markdown",
   "metadata": {}
  },
  {
   "cell_type": "code",
   "execution_count": null,
   "metadata": {},
   "outputs": [],
   "source": []
  }
 ]
}